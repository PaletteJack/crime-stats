{
 "cells": [
  {
   "cell_type": "markdown",
   "id": "56054d6c-dcb0-4081-9367-3312672df4a4",
   "metadata": {},
   "source": [
    "##Crime Data\n",
    "\n",
    "This is some interesting insights into crime data ranging from 2001 to present year (2023 at time of documenting)\n",
    "\n",
    "First thing I would like to do is get an accurate count of each crime. Luckily, [https://data.gov/]Data.gov included the IUCR id with each entry. filtering by that:"
   ]
  },
  {
   "cell_type": "code",
   "execution_count": 7,
   "id": "48b3b578-0e24-4bde-98ca-57b5a502349b",
   "metadata": {},
   "outputs": [
    {
     "name": "stdout",
     "output_type": "stream",
     "text": [
      "     IUCR   Count\n",
      "0    0820  640309\n",
      "1    0486  618537\n",
      "2    0460  569703\n",
      "3    1320  426330\n",
      "4    0810  425453\n",
      "..    ...     ...\n",
      "400  1624       1\n",
      "401  1542       1\n",
      "402  1521       1\n",
      "403  0830       1\n",
      "404  0130       1\n",
      "\n",
      "[405 rows x 2 columns]\n"
     ]
    }
   ],
   "source": [
    "from sqlalchemy import create_engine\n",
    "import pandas as pd\n",
    "\n",
    "engine = create_engine('sqlite:///sqlite3.db')\n",
    "\n",
    "query = '''\n",
    "select IUCR, count(IUCR) as Count\n",
    "from crime_data\n",
    "group by IUCR\n",
    "order by Count desc'''\n",
    "df = pd.read_sql(query, engine)\n",
    "print(df)"
   ]
  },
  {
   "cell_type": "markdown",
   "id": "889031c1-70fb-433f-baad-edbbabbe304a",
   "metadata": {},
   "source": [
    "According to the data, the most popular crime is pett theft, (specifically $500 and under), with battery (Domestic battery simple) coming second. Number 3 is battery as well (simple battery), with criminal damage coming after (to vehicle), and finally theft again (over $500).\n",
    "\n",
    "Among some of the least popular (or maybe least reported) are gambling (Lottery / PARI-MUTUEL), obsenity (sale of obscene materials), prostitution (keeping place of juvenile prostitution), retail theft (unsure of the distinction between this and regular petty theft), and homicide (second degree murder)."
   ]
  },
  {
   "cell_type": "code",
   "execution_count": null,
   "id": "927c1c4e-501c-4c29-9529-5e361ec78f35",
   "metadata": {},
   "outputs": [],
   "source": []
  }
 ],
 "metadata": {
  "kernelspec": {
   "display_name": "Python 3 (ipykernel)",
   "language": "python",
   "name": "python3"
  },
  "language_info": {
   "codemirror_mode": {
    "name": "ipython",
    "version": 3
   },
   "file_extension": ".py",
   "mimetype": "text/x-python",
   "name": "python",
   "nbconvert_exporter": "python",
   "pygments_lexer": "ipython3",
   "version": "3.11.2"
  }
 },
 "nbformat": 4,
 "nbformat_minor": 5
}
